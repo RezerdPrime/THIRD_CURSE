{
 "cells": [
  {
   "cell_type": "code",
   "execution_count": 23,
   "metadata": {},
   "outputs": [
    {
     "data": {
      "text/plain": [
       "(array([ 2.41421356, -0.41421356,  2.        ,  2.        ]),\n",
       " -3.999999999999999)"
      ]
     },
     "execution_count": 23,
     "metadata": {},
     "output_type": "execute_result"
    }
   ],
   "source": [
    "import numpy as np\n",
    "from matplotlib import pyplot as plt\n",
    "\n",
    "A = np.array([\n",
    "    [2, 0, 0, 1],\n",
    "    [0, 2, 0, 0],\n",
    "    [0, 0, 2, 0],\n",
    "    [1, 0, 0, 0]\n",
    "])\n",
    "\n",
    "val, vec = np.linalg.eig(A)\n",
    "val, np.linalg.det(A)"
   ]
  },
  {
   "cell_type": "code",
   "execution_count": null,
   "metadata": {},
   "outputs": [
    {
     "data": {
      "text/plain": [
       "(0.000576916574478531,\n",
       " 0.25630860459957244,\n",
       " array([ 0.48206104,  0.36893356, -0.21035548, -0.53799037,  1.37693553]))"
      ]
     },
     "execution_count": 24,
     "metadata": {},
     "output_type": "execute_result"
    }
   ],
   "source": [
    "p = np.array([1, 1, 0, 0])\n",
    "r = 1\n",
    "\n",
    "\n",
    "def Norm2(v):\n",
    "    return sum([_**2 for _ in v])**.5\n",
    "\n",
    "\n",
    "def F(x, l):\n",
    "    return x[0]**2 + x[1]**2 + x[2]**2 + x[0]*x[3] + x[0] + x[1] + x[2] + x[3] + \\\n",
    "    l * ( (x[0] - p[0])**2 + (x[1] - p[1])**2 + (x[2] - p[2])**2 + (x[3] - p[3])**2 - r**2 )\n",
    "\n",
    "\n",
    "def G(x, l):\n",
    "    return np.array([\n",
    "        2*x[0] + x[3] + 1 + 2*l*(x[0] - p[0]),\n",
    "        2*x[1] + 1 + 2*l*(x[1] - p[1]),\n",
    "        2*x[2] + 1 + 2*l*(x[2] - p[2]),\n",
    "        x[0] + 1 + 2*l*(x[3] - p[3]),\n",
    "        (x[0] - p[0])**2 + (x[1] - p[1])**2 + (x[2] - p[2])**2 + (x[3] - p[3])**2 - r**2\n",
    "    ])\n",
    "\n",
    "\n",
    "def Jacobian(x, l):\n",
    "    return np.array([\n",
    "        [2+2*l, 0, 0, 1, 2*(x[0]- p[0])],\n",
    "        [0, 2+2*l, 0, 0, 2*(x[1]- p[1])],\n",
    "        [0, 0, 2+2*l, 0, 2*(x[2]- p[2])],\n",
    "        [1, 0, 0, 2*l, 2*(x[3]- p[3])],\n",
    "        [2*(x[0]- p[0]), 2*(x[1]- p[1]), 2*(x[2]- p[2]), 2*(x[3]- p[3]), 0]\n",
    "    ])\n",
    "\n",
    "\n",
    "def NewtonMethod(x0, l0, eps):\n",
    "    xk = G(x0, l0)\n",
    "    #print(xk)\n",
    "    #k = 0\n",
    "\n",
    "    while Norm2(G(xk[:-1], xk[-1])) > eps:\n",
    "        #k += 1\n",
    "        #print(Norm2(G(xk[:-1], xk[-1])))\n",
    "        J = Jacobian(xk[:-1], xk[-1])\n",
    "\n",
    "        #print(J)\n",
    "\n",
    "        \n",
    "\n",
    "        xk = xk - np.linalg.inv(J) @ G(xk[:-1], xk[-1])\n",
    "\n",
    "        #print(Norm2(G(xk[:-1], xk[-1])))\n",
    "    return xk\n",
    "\n",
    "\n",
    "res = NewtonMethod(p - np.array([r, 0, 0, 0]), 1, 0.001)\n",
    "X, L = res[:-1], res[-1]\n",
    "\n",
    "Norm2(G(X, L)), F(X, L), res"
   ]
  }
 ],
 "metadata": {
  "kernelspec": {
   "display_name": "Python 3",
   "language": "python",
   "name": "python3"
  },
  "language_info": {
   "codemirror_mode": {
    "name": "ipython",
    "version": 3
   },
   "file_extension": ".py",
   "mimetype": "text/x-python",
   "name": "python",
   "nbconvert_exporter": "python",
   "pygments_lexer": "ipython3",
   "version": "3.11.1"
  }
 },
 "nbformat": 4,
 "nbformat_minor": 2
}
