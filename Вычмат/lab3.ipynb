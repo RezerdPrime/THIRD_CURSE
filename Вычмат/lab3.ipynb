{
 "cells": [
  {
   "cell_type": "markdown",
   "metadata": {},
   "source": [
    "# Разложение Холецкого\n",
    "\n",
    "Выполнил студент 3 курса долбвеб"
   ]
  },
  {
   "cell_type": "code",
   "execution_count": 193,
   "metadata": {},
   "outputs": [],
   "source": [
    "import numpy as np\n",
    "import pandas as pd\n",
    "\n",
    "#===========================================\n",
    "A1 = np.array([\n",
    "    [81, -45, 45],\n",
    "    [-45, 50, -15],\n",
    "    [45, -15, 38]\n",
    "])\n",
    "\n",
    "b1 = np.array([\n",
    "    [531],\n",
    "    [-460],\n",
    "    [193]\n",
    "])\n",
    "\n",
    "x1 = np.array([[6], [-5], [-4]])\n",
    "\n",
    "#===========================================\n",
    "A2 = np.array([\n",
    "    [6.25, -1, 0.5],\n",
    "    [-1, 5, 2.12],\n",
    "    [0.5, 2.12, 3.6]\n",
    "])\n",
    "\n",
    "b2 = np.array([\n",
    "    [7.5],\n",
    "    [-8.68],\n",
    "    [-0.24]\n",
    "])\n",
    "\n",
    "x2 = np.array([[0.8], [-2], [1]])\n",
    "\n",
    "#===========================================\n",
    "A3 = np.array([\n",
    "    [1, 3, -2, 0, -2],\n",
    "    [3, 4, -5, 1, -3],\n",
    "    [-2, -5, 3, -2, 2],\n",
    "    [0, 1, -2, 5, 3],\n",
    "    [-2, -3, 2, 3, 4]\n",
    "])\n",
    "\n",
    "b3 = np.array([\n",
    "    [0.5],\n",
    "    [5.4],\n",
    "    [5.0],\n",
    "    [7.5],\n",
    "    [3.3]\n",
    "])\n",
    "\n",
    "x3 = np.array([[-6.0978], [-2.2016], [-6.8011], [-8.8996], [0.1998]])\n",
    "\n",
    "#===========================================\n",
    "A4 = np.array([\n",
    "    [1, 2, 4],\n",
    "    [2, 13, 23],\n",
    "    [4, 23, 77]\n",
    "])\n",
    "\n",
    "b4 = np.array([\n",
    "    [10],\n",
    "    [50],\n",
    "    [150]\n",
    "])\n",
    "\n",
    "x4 = np.array([[2.22], [0.55], [1.67]])"
   ]
  },
  {
   "cell_type": "code",
   "execution_count": 194,
   "metadata": {},
   "outputs": [],
   "source": [
    "def CholeskyDecomp(M):\n",
    "    n = len(M)\n",
    "    U = np.zeros((n, n))\n",
    "\n",
    "    for i in range(n):\n",
    "        for j in range(n):\n",
    "            Sum = 0\n",
    "\n",
    "            if (i == j):\n",
    "                for k in range(i):\n",
    "                    Sum += U[k, i]*U[k, i]\n",
    "                \n",
    "                U[i, i] = (M[i, i] - Sum)**.5\n",
    "\n",
    "            elif (i < j):\n",
    "                for k in range(i):\n",
    "                    Sum += U[k, i]*U[k, j]\n",
    "\n",
    "                U[i, j] = (M[i, j] - Sum) / U[i, i]\n",
    "\n",
    "    return U"
   ]
  },
  {
   "cell_type": "markdown",
   "metadata": {},
   "source": [
    "### Тест1\n",
    "\n",
    "Разложение Холецкого имеет ограничение на определенность матрицы, потому в начале каждого теста я буду проверять матрицу на положительную определенность, используя собственные значения заданной матрицы"
   ]
  },
  {
   "cell_type": "code",
   "execution_count": 195,
   "metadata": {},
   "outputs": [
    {
     "data": {
      "text/plain": [
       "array([134.72475295,   4.55103023,  29.72421681])"
      ]
     },
     "execution_count": 195,
     "metadata": {},
     "output_type": "execute_result"
    }
   ],
   "source": [
    "eigenvalues, eigenvectors = np.linalg.eig(A1)\n",
    "eigenvalues"
   ]
  },
  {
   "cell_type": "code",
   "execution_count": 196,
   "metadata": {},
   "outputs": [
    {
     "data": {
      "text/plain": [
       "(array([[ 81, -45,  45],\n",
       "        [-45,  50, -15],\n",
       "        [ 45, -15,  38]]),\n",
       " array([[ 81., -45.,  45.],\n",
       "        [-45.,  50., -15.],\n",
       "        [ 45., -15.,  38.]]))"
      ]
     },
     "execution_count": 196,
     "metadata": {},
     "output_type": "execute_result"
    }
   ],
   "source": [
    "Ch = CholeskyDecomp(A1)\n",
    "\n",
    "A1, Ch.T @ Ch"
   ]
  },
  {
   "cell_type": "code",
   "execution_count": 197,
   "metadata": {},
   "outputs": [
    {
     "data": {
      "text/plain": [
       "array([[-8.8817842e-16],\n",
       "       [ 8.8817842e-16],\n",
       "       [ 8.8817842e-16]])"
      ]
     },
     "execution_count": 197,
     "metadata": {},
     "output_type": "execute_result"
    }
   ],
   "source": [
    "y = np.linalg.inv(Ch.T) @ b1\n",
    "x = np.linalg.inv(Ch) @ y\n",
    "\n",
    "x - x1"
   ]
  },
  {
   "cell_type": "markdown",
   "metadata": {},
   "source": [
    "### Тест2"
   ]
  },
  {
   "cell_type": "code",
   "execution_count": 198,
   "metadata": {},
   "outputs": [
    {
     "data": {
      "text/plain": [
       "array([1.8416909, 5.9984759, 7.0098332])"
      ]
     },
     "execution_count": 198,
     "metadata": {},
     "output_type": "execute_result"
    }
   ],
   "source": [
    "eigenvalues, eigenvectors = np.linalg.eig(A2)\n",
    "eigenvalues"
   ]
  },
  {
   "cell_type": "code",
   "execution_count": 199,
   "metadata": {},
   "outputs": [
    {
     "data": {
      "text/plain": [
       "(array([[ 6.25, -1.  ,  0.5 ],\n",
       "        [-1.  ,  5.  ,  2.12],\n",
       "        [ 0.5 ,  2.12,  3.6 ]]),\n",
       " array([[ 6.25, -1.  ,  0.5 ],\n",
       "        [-1.  ,  5.  ,  2.12],\n",
       "        [ 0.5 ,  2.12,  3.6 ]]))"
      ]
     },
     "execution_count": 199,
     "metadata": {},
     "output_type": "execute_result"
    }
   ],
   "source": [
    "Ch = CholeskyDecomp(A2)\n",
    "\n",
    "A2, Ch.T @ Ch"
   ]
  },
  {
   "cell_type": "code",
   "execution_count": 200,
   "metadata": {},
   "outputs": [
    {
     "data": {
      "text/plain": [
       "array([[ 0.00000000e+00],\n",
       "       [ 2.22044605e-16],\n",
       "       [-3.33066907e-16]])"
      ]
     },
     "execution_count": 200,
     "metadata": {},
     "output_type": "execute_result"
    }
   ],
   "source": [
    "y = np.linalg.inv(Ch.T) @ b2\n",
    "x = np.linalg.inv(Ch) @ y\n",
    "\n",
    "x - x2"
   ]
  },
  {
   "cell_type": "markdown",
   "metadata": {},
   "source": [
    "### Тест3"
   ]
  },
  {
   "cell_type": "code",
   "execution_count": 201,
   "metadata": {},
   "outputs": [
    {
     "data": {
      "text/plain": [
       "array([12.0366661 ,  7.52864994, -1.76261066, -0.33376999, -0.46893539])"
      ]
     },
     "execution_count": 201,
     "metadata": {},
     "output_type": "execute_result"
    }
   ],
   "source": [
    "eigenvalues, eigenvectors = np.linalg.eig(A3)\n",
    "eigenvalues"
   ]
  },
  {
   "cell_type": "markdown",
   "metadata": {},
   "source": [
    "Матрица не является положительно определенной, следовательно для неё разложение Холецкого не существует"
   ]
  },
  {
   "cell_type": "markdown",
   "metadata": {},
   "source": [
    "### Тест4"
   ]
  },
  {
   "cell_type": "code",
   "execution_count": 202,
   "metadata": {},
   "outputs": [
    {
     "data": {
      "text/plain": [
       "array([84.64176666,  0.67334625,  5.68488709])"
      ]
     },
     "execution_count": 202,
     "metadata": {},
     "output_type": "execute_result"
    }
   ],
   "source": [
    "eigenvalues, eigenvectors = np.linalg.eig(A4)\n",
    "eigenvalues"
   ]
  },
  {
   "cell_type": "code",
   "execution_count": 203,
   "metadata": {},
   "outputs": [
    {
     "data": {
      "text/plain": [
       "(array([[ 1,  2,  4],\n",
       "        [ 2, 13, 23],\n",
       "        [ 4, 23, 77]]),\n",
       " array([[ 1.,  2.,  4.],\n",
       "        [ 2., 13., 23.],\n",
       "        [ 4., 23., 77.]]))"
      ]
     },
     "execution_count": 203,
     "metadata": {},
     "output_type": "execute_result"
    }
   ],
   "source": [
    "Ch = CholeskyDecomp(A4)\n",
    "\n",
    "A4, Ch.T @ Ch"
   ]
  },
  {
   "cell_type": "code",
   "execution_count": 204,
   "metadata": {},
   "outputs": [
    {
     "data": {
      "text/plain": [
       "(array([[2.22222222],\n",
       "        [0.55555556],\n",
       "        [1.66666667]]),\n",
       " array([[2.22],\n",
       "        [0.55],\n",
       "        [1.67]]))"
      ]
     },
     "execution_count": 204,
     "metadata": {},
     "output_type": "execute_result"
    }
   ],
   "source": [
    "y = np.linalg.inv(Ch.T) @ b4\n",
    "x = np.linalg.inv(Ch) @ y\n",
    "\n",
    "x, x4"
   ]
  },
  {
   "cell_type": "markdown",
   "metadata": {},
   "source": [
    "### Пункт 5 лабы"
   ]
  },
  {
   "cell_type": "code",
   "execution_count": 205,
   "metadata": {},
   "outputs": [
    {
     "name": "stdout",
     "output_type": "stream",
     "text": [
      "[6.9338703  5.76694084 3.79918886]\n"
     ]
    },
    {
     "data": {
      "text/plain": [
       "(array([[ 0.56206926],\n",
       "        [-0.44359823],\n",
       "        [ 0.13461121]]),\n",
       " '',\n",
       " array([[ 0.00000000e+00],\n",
       "        [-2.22044605e-16],\n",
       "        [-2.22044605e-16]]))"
      ]
     },
     "execution_count": 205,
     "metadata": {},
     "output_type": "execute_result"
    }
   ],
   "source": [
    "M1 = np.array([\n",
    "    [5.8, 0.3, -0.2],\n",
    "    [0.3, 4, -0.7],\n",
    "    [-0.2, -0.7, 6.7]\n",
    "])\n",
    "\n",
    "v1 = np.array([\n",
    "    [3.1],\n",
    "    [-1.7],\n",
    "    [1.1]\n",
    "])\n",
    "\n",
    "eigenvalues, eigenvectors = np.linalg.eig(M1)\n",
    "print(eigenvalues)\n",
    "\n",
    "Ch = CholeskyDecomp(M1)\n",
    "\n",
    "y = np.linalg.inv(Ch.T) @ v1\n",
    "x = np.linalg.inv(Ch) @ y\n",
    "\n",
    "x, '', M1 @ x - v1"
   ]
  },
  {
   "cell_type": "code",
   "execution_count": 206,
   "metadata": {},
   "outputs": [
    {
     "name": "stdout",
     "output_type": "stream",
     "text": [
      "[1.39826937 6.73593419 3.53108391 4.77471254]\n"
     ]
    },
    {
     "data": {
      "text/plain": [
       "(array([[ 1.45653917],\n",
       "        [-1.93309996],\n",
       "        [ 3.46970779],\n",
       "        [ 1.51312749]]),\n",
       " '',\n",
       " array([[ 1.77635684e-15],\n",
       "        [ 1.98452366e-15],\n",
       "        [-1.77635684e-15],\n",
       "        [ 0.00000000e+00]]))"
      ]
     },
     "execution_count": 206,
     "metadata": {},
     "output_type": "execute_result"
    }
   ],
   "source": [
    "M2 = np.array([\n",
    "    [4.12, 0.42, 1.34, 0.88],\n",
    "    [0.42, 3.95, 1.87, 0.43],\n",
    "    [1.34, 1.87, 3.2, 0.31],\n",
    "    [0.88, 0.43, 0.31, 5.17]\n",
    "])\n",
    "\n",
    "v2 = np.array([\n",
    "    [11.17],\n",
    "    [0.115],\n",
    "    [9.909],\n",
    "    [9.349]\n",
    "])\n",
    "\n",
    "eigenvalues, eigenvectors = np.linalg.eig(M2)\n",
    "print(eigenvalues)\n",
    "\n",
    "Ch = CholeskyDecomp(M2)\n",
    "\n",
    "y = np.linalg.inv(Ch.T) @ v2\n",
    "x = np.linalg.inv(Ch) @ y\n",
    "\n",
    "x, '', M2 @ x - v2\n"
   ]
  },
  {
   "cell_type": "code",
   "execution_count": 207,
   "metadata": {},
   "outputs": [],
   "source": [
    "UberMatrixRaw = np.random.rand(1000, 1000)\n",
    "UberMatrix = UberMatrixRaw.T @ UberMatrixRaw"
   ]
  },
  {
   "cell_type": "code",
   "execution_count": 208,
   "metadata": {},
   "outputs": [],
   "source": [
    "Ch = CholeskyDecomp(UberMatrix)"
   ]
  },
  {
   "cell_type": "markdown",
   "metadata": {},
   "source": [
    "### Какие-то выводы мб\n",
    "\n",
    "Разложение Холецкого довольно бодренько находит компоненты матрицы (т.к работы вдвое меньше, кто бы мог подумать), причем точность так же не уступает своему собрату LU. Ниже я прикрепил скрин, сколько времени выполнялся на рандомной симметричной матрице размерности 1000. Я это сделал чисто по приколу"
   ]
  },
  {
   "attachments": {
    "image.png": {
     "image/png": "[encoded data removed]"
    }
   },
   "cell_type": "markdown",
   "metadata": {},
   "source": [
    "![image.png](attachment:image.png)"
   ]
  }
 ],
 "metadata": {
  "kernelspec": {
   "display_name": "Python 3",
   "language": "python",
   "name": "python3"
  },
  "language_info": {
   "codemirror_mode": {
    "name": "ipython",
    "version": 3
   },
   "file_extension": ".py",
   "mimetype": "text/x-python",
   "name": "python",
   "nbconvert_exporter": "python",
   "pygments_lexer": "ipython3",
   "version": "3.11.1"
  }
 },
 "nbformat": 4,
 "nbformat_minor": 2
}
