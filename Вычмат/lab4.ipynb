{
 "cells": [
  {
   "cell_type": "markdown",
   "metadata": {},
   "source": [
    "# QR разложение\n",
    "\n",
    "Выполнил студент 3 курса ебалн"
   ]
  },
  {
   "cell_type": "code",
   "execution_count": null,
   "metadata": {},
   "outputs": [],
   "source": [
    "import numpy as np\n",
    "\n",
    "def ScalarDot(v1, v2):\n",
    "    return sum([v1[_]*v2[_] for _ in range(len(v1))])\n",
    "\n",
    "def Norm2(v):\n",
    "    r = ScalarDot(v, v)**.5\n",
    "    return [v_ / r for v_ in v]\n",
    "\n",
    "def QR(A): # Метод Грама-Шмидта\n",
    "    n = len(A)\n",
    "    R = np.zeros((n, n))\n",
    "    Q = np.zeros((n, n))\n",
    "    \n",
    "    for i in range(n):\n",
    "        Sum = np.zeros((1,n))[0]\n",
    "\n",
    "        for j in range(i):\n",
    "            scd = ScalarDot(A[:,i], Q[:,j])\n",
    "            Sum += scd * Q[:,j]\n",
    "        \n",
    "        u_i = A[:,i] - Sum\n",
    "        q_i = Norm2(u_i)\n",
    "\n",
    "        for k in range(n): Q[k, i] = q_i[k]\n",
    "\n",
    "    for i in range(n):\n",
    "        for j in range(n):\n",
    "            if (j <= i): R[j, i] = ScalarDot(A[:,i], Q[:,j])\n",
    "\n",
    "    return Q, R"
   ]
  },
  {
   "cell_type": "markdown",
   "metadata": {},
   "source": [
    "### Тест 1"
   ]
  },
  {
   "cell_type": "code",
   "execution_count": null,
   "metadata": {},
   "outputs": [
    {
     "name": "stdout",
     "output_type": "stream",
     "text": [
      "[[ 0.00000000e+00 -1.77635684e-15 -1.50990331e-14]\n",
      " [ 0.00000000e+00 -2.66453526e-15  8.88178420e-15]\n",
      " [ 0.00000000e+00  1.77635684e-15 -2.32294864e-15]]\n",
      "[[-4.61538461e-04]\n",
      " [ 7.69230764e-05]\n",
      " [-2.30769231e-04]]\n"
     ]
    }
   ],
   "source": [
    "A = np.array([\n",
    "    [1, 2, 3],\n",
    "    [4, 6, 7],\n",
    "    [8, 9, 0]\n",
    "])\n",
    "\n",
    "b = np.array([\n",
    "    [6],\n",
    "    [12],\n",
    "    [24]\n",
    "])\n",
    "\n",
    "x = np.array([\n",
    "    [-11.538],\n",
    "    [12.923],\n",
    "    [-2.769]\n",
    "])\n",
    "\n",
    "Q, R = QR(A)\n",
    "print(Q @ R - A) # Демонстрация корректной работы алгоритма (и его точности)\n",
    "\n",
    "\n",
    "y = Q.T @ b\n",
    "x0 = np.linalg.inv(R) @ y\n",
    "print(x0 - x) # Демонстрация точности решения"
   ]
  },
  {
   "cell_type": "markdown",
   "metadata": {},
   "source": [
    "### Тест 2"
   ]
  },
  {
   "cell_type": "code",
   "execution_count": 420,
   "metadata": {},
   "outputs": [
    {
     "name": "stdout",
     "output_type": "stream",
     "text": [
      "[[-8.88178420e-16  4.44089210e-14  3.19744231e-14]\n",
      " [ 0.00000000e+00 -7.10542736e-15 -5.11590770e-13]\n",
      " [ 0.00000000e+00  1.42108547e-14 -3.83693077e-13]]\n",
      "[[-1.92112992e-12]\n",
      " [ 7.27529148e-12]\n",
      " [ 4.88298291e-12]]\n"
     ]
    }
   ],
   "source": [
    "A = np.array([\n",
    "    [6.03, 13, -17],\n",
    "    [13, 29.03, -38],\n",
    "    [-17, -38, 50.03]\n",
    "])\n",
    "\n",
    "b = np.array([\n",
    "    [2.0909],\n",
    "    [4.1509],\n",
    "    [-5.1191]\n",
    "])\n",
    "\n",
    "x = np.array([\n",
    "    [1.03],\n",
    "    [1.03],\n",
    "    [1.03]\n",
    "])\n",
    "\n",
    "Q, R = QR(A)\n",
    "print(Q @ R - A)\n",
    "\n",
    "\n",
    "y = Q.T @ b\n",
    "x0 = np.linalg.inv(R) @ y\n",
    "print(x0 - x)"
   ]
  },
  {
   "cell_type": "markdown",
   "metadata": {},
   "source": [
    "### Пункт 4"
   ]
  },
  {
   "cell_type": "code",
   "execution_count": null,
   "metadata": {},
   "outputs": [
    {
     "name": "stdout",
     "output_type": "stream",
     "text": [
      "[[1.]\n",
      " [1.]\n",
      " [1.]]\n",
      "[[0.00000000e+00]\n",
      " [2.22044605e-16]\n",
      " [0.00000000e+00]]\n"
     ]
    }
   ],
   "source": [
    "A = np.array([\n",
    "    [2, 0, 1],\n",
    "    [0, 1, -1],\n",
    "    [1, 1, 1]\n",
    "])\n",
    "\n",
    "b = np.array([\n",
    "    [3],\n",
    "    [0],\n",
    "    [3]\n",
    "])\n",
    "\n",
    "\n",
    "Q, R = QR(A)\n",
    "\n",
    "y = Q.T @ b\n",
    "x0 = np.linalg.inv(R) @ y\n",
    "\n",
    "print(x0) # Решение СЛАУ\n",
    "\n",
    "print(A @ x0 - b) # Проверка верности решения СЛАУ"
   ]
  },
  {
   "cell_type": "markdown",
   "metadata": {},
   "source": [
    "## Выводы мб\n",
    "\n",
    "По \"е-15\" и тп в результатах можно сказать, что точность алгоритма довольно большая. Реализуется легко и не требует теоретических заморочек, как в других методах, кайф"
   ]
  }
 ],
 "metadata": {
  "kernelspec": {
   "display_name": "Python 3",
   "language": "python",
   "name": "python3"
  },
  "language_info": {
   "codemirror_mode": {
    "name": "ipython",
    "version": 3
   },
   "file_extension": ".py",
   "mimetype": "text/x-python",
   "name": "python",
   "nbconvert_exporter": "python",
   "pygments_lexer": "ipython3",
   "version": "3.11.1"
  }
 },
 "nbformat": 4,
 "nbformat_minor": 2
}
