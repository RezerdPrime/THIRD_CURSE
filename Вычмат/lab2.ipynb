{
 "cells": [
  {
   "cell_type": "markdown",
   "metadata": {},
   "source": [
    "## LU разложение\n",
    "Выполнил студент 3 курса долбаеб"
   ]
  },
  {
   "cell_type": "code",
   "execution_count": 119,
   "metadata": {},
   "outputs": [],
   "source": [
    "import numpy as np\n",
    "import pandas as pd\n",
    "\n",
    "def LU(A):\n",
    "    n = len(A)\n",
    "    L = np.eye(n)\n",
    "    U = np.zeros((n, n))\n",
    "\n",
    "    for i in range(n):\n",
    "        for j in range(n):\n",
    "            Sum = 0\n",
    "\n",
    "            if (i > j):\n",
    "                for k in range(j):\n",
    "                    Sum += L[i, k] * U[k, j]\n",
    "\n",
    "                L[i, j] = (A[i, j] - Sum) / U[j, j]\n",
    "\n",
    "            else:\n",
    "                for k in range(i):\n",
    "                    Sum += L[i, k] * U[k, j]\n",
    "\n",
    "                U[i, j] = (A[i, j] - Sum)\n",
    "    \n",
    "    return L, U"
   ]
  },
  {
   "cell_type": "markdown",
   "metadata": {},
   "source": [
    "### Тест 1"
   ]
  },
  {
   "cell_type": "code",
   "execution_count": 120,
   "metadata": {},
   "outputs": [
    {
     "name": "stdout",
     "output_type": "stream",
     "text": [
      "     0    1    2\n",
      "0  2.1 -4.5 -2.0\n",
      "1  3.0  2.5  4.3\n",
      "2 -6.0  3.5  2.5\n",
      "     0    1    2\n",
      "0  2.1 -4.5 -2.0\n",
      "1  3.0  2.5  4.3\n",
      "2 -6.0  3.5  2.5\n"
     ]
    }
   ],
   "source": [
    "A = np.array([\n",
    "    [2.1, -4.5, -2.0],\n",
    "    [3.0, 2.5, 4.3],\n",
    "    [-6.0, 3.5, 2.5]\n",
    "])\n",
    "\n",
    "b = np.array([\n",
    "    [19.07],\n",
    "    [3.21],\n",
    "    [-18.25]\n",
    "])\n",
    "\n",
    "x_ = np.array([[1.34025], [-4.75798], [2.5771]])\n",
    "\n",
    "print(pd.DataFrame(A))\n",
    "L, U = LU(A)\n",
    "print(pd.DataFrame(L @ U))"
   ]
  },
  {
   "cell_type": "code",
   "execution_count": 121,
   "metadata": {},
   "outputs": [
    {
     "data": {
      "text/plain": [
       "(array([[ 1.34022645],\n",
       "        [-4.75800672],\n",
       "        [ 2.57775289]]),\n",
       " array([[ 1.34025],\n",
       "        [-4.75798],\n",
       "        [ 2.5771 ]]))"
      ]
     },
     "execution_count": 121,
     "metadata": {},
     "output_type": "execute_result"
    }
   ],
   "source": [
    "y = np.linalg.inv(L) @ b\n",
    "x = np.linalg.inv(U) @ y\n",
    "\n",
    "x, x_"
   ]
  },
  {
   "cell_type": "markdown",
   "metadata": {},
   "source": [
    "### Тест 2"
   ]
  },
  {
   "cell_type": "code",
   "execution_count": 122,
   "metadata": {},
   "outputs": [
    {
     "name": "stdout",
     "output_type": "stream",
     "text": [
      "    0  1  2\n",
      "0   5 -1 -5\n",
      "1  -3  6  2\n",
      "2  10 -7  0\n",
      "      0    1    2\n",
      "0   5.0 -1.0 -5.0\n",
      "1  -3.0  6.0  2.0\n",
      "2  10.0 -7.0  0.0\n"
     ]
    }
   ],
   "source": [
    "A = np.array([\n",
    "    [5, -1, -5],\n",
    "    [-3, 6, 2],\n",
    "    [10, -7, 0]\n",
    "])\n",
    "\n",
    "b = np.array([\n",
    "    [3.2],\n",
    "    [5.4],\n",
    "    [-1.2]\n",
    "])\n",
    "\n",
    "x_ = np.array([[0.7297], [1.2138], [0.1531]])\n",
    "\n",
    "print(pd.DataFrame(A))\n",
    "L, U = LU(A)\n",
    "print(pd.DataFrame(L @ U))"
   ]
  },
  {
   "cell_type": "code",
   "execution_count": 123,
   "metadata": {},
   "outputs": [
    {
     "data": {
      "text/plain": [
       "(array([[ 0.81714286],\n",
       "        [ 1.33877551],\n",
       "        [-0.09061224]]),\n",
       " array([[0.7297],\n",
       "        [1.2138],\n",
       "        [0.1531]]))"
      ]
     },
     "execution_count": 123,
     "metadata": {},
     "output_type": "execute_result"
    }
   ],
   "source": [
    "y = np.linalg.lstsq(L, b, rcond=None)[0] #np.linalg.inv(L) @ b\n",
    "x = np.linalg.lstsq(U, y, rcond=None)[0] #np.linalg.inv(U) @ y\n",
    "\n",
    "x, x_"
   ]
  },
  {
   "cell_type": "markdown",
   "metadata": {},
   "source": [
    "### Тест 3"
   ]
  },
  {
   "cell_type": "code",
   "execution_count": 124,
   "metadata": {},
   "outputs": [
    {
     "name": "stdout",
     "output_type": "stream",
     "text": [
      "   0  1  2\n",
      "0  5  2  3\n",
      "1  1  6  1\n",
      "2  3 -4 -2\n",
      "     0    1    2\n",
      "0  5.0  2.0  3.0\n",
      "1  1.0  6.0  1.0\n",
      "2  3.0 -4.0 -2.0\n"
     ]
    }
   ],
   "source": [
    "A = np.array([\n",
    "    [5, 2, 3],\n",
    "    [1, 6, 1],\n",
    "    [3, -4, -2]\n",
    "])\n",
    "\n",
    "b = np.array([\n",
    "    [3],\n",
    "    [5],\n",
    "    [8]\n",
    "])\n",
    "\n",
    "x_ = np.array([[2], [1], [-3]])\n",
    "\n",
    "print(pd.DataFrame(A))\n",
    "L, U = LU(A)\n",
    "print(pd.DataFrame(L @ U))"
   ]
  },
  {
   "cell_type": "code",
   "execution_count": 125,
   "metadata": {},
   "outputs": [
    {
     "data": {
      "text/plain": [
       "(array([[ 2.],\n",
       "        [ 1.],\n",
       "        [-3.]]),\n",
       " array([[ 2],\n",
       "        [ 1],\n",
       "        [-3]]))"
      ]
     },
     "execution_count": 125,
     "metadata": {},
     "output_type": "execute_result"
    }
   ],
   "source": [
    "y = np.linalg.inv(L) @ b\n",
    "x = np.linalg.inv(U) @ y\n",
    "\n",
    "x, x_"
   ]
  },
  {
   "cell_type": "markdown",
   "metadata": {},
   "source": [
    "### Тест 4"
   ]
  },
  {
   "cell_type": "code",
   "execution_count": 126,
   "metadata": {},
   "outputs": [
    {
     "name": "stdout",
     "output_type": "stream",
     "text": [
      "   0  1  2  3\n",
      "0  1  2  1  4\n",
      "1  2  0  4  3\n",
      "2  4  2  2  1\n",
      "3 -3  1  3  2\n",
      "     0    1    2    3\n",
      "0  1.0  2.0  1.0  4.0\n",
      "1  2.0  0.0  4.0  3.0\n",
      "2  4.0  2.0  2.0  1.0\n",
      "3 -3.0  1.0  3.0  2.0\n"
     ]
    }
   ],
   "source": [
    "A = np.array([\n",
    "    [1, 2, 1, 4],\n",
    "    [2, 0, 4, 3],\n",
    "    [4, 2, 2, 1],\n",
    "    [-3, 1, 3, 2]\n",
    "])\n",
    "\n",
    "b = np.array([\n",
    "    [13],\n",
    "    [28],\n",
    "    [20],\n",
    "    [6]\n",
    "])\n",
    "\n",
    "x_ = np.array([[3], [-1], [4], [2]])\n",
    "\n",
    "print(pd.DataFrame(A))\n",
    "L, U = LU(A)\n",
    "print(pd.DataFrame(L @ U))"
   ]
  },
  {
   "cell_type": "code",
   "execution_count": 127,
   "metadata": {},
   "outputs": [
    {
     "data": {
      "text/plain": [
       "(array([[ 3.],\n",
       "        [-1.],\n",
       "        [ 4.],\n",
       "        [ 2.]]),\n",
       " array([[ 3],\n",
       "        [-1],\n",
       "        [ 4],\n",
       "        [ 2]]))"
      ]
     },
     "execution_count": 127,
     "metadata": {},
     "output_type": "execute_result"
    }
   ],
   "source": [
    "y = np.linalg.inv(L) @ b\n",
    "x = np.linalg.inv(U) @ y\n",
    "\n",
    "x, x_"
   ]
  },
  {
   "cell_type": "markdown",
   "metadata": {},
   "source": [
    "### Тест 5"
   ]
  },
  {
   "cell_type": "code",
   "execution_count": 128,
   "metadata": {},
   "outputs": [
    {
     "name": "stdout",
     "output_type": "stream",
     "text": [
      "    0  1  2\n",
      "0   2  1  3\n",
      "1  11  7  5\n",
      "2   9  8  4\n",
      "      0    1    2\n",
      "0   2.0  1.0  3.0\n",
      "1  11.0  7.0  5.0\n",
      "2   9.0  8.0  4.0\n"
     ]
    }
   ],
   "source": [
    "A = np.array([\n",
    "    [2, 1, 3],\n",
    "    [11, 7, 5],\n",
    "    [9, 8, 4]\n",
    "])\n",
    "\n",
    "b = np.array([\n",
    "    [1],\n",
    "    [-6],\n",
    "    [-5]\n",
    "])\n",
    "\n",
    "x_ = np.array([[-1], [0], [1]])\n",
    "\n",
    "print(pd.DataFrame(A))\n",
    "L, U = LU(A)\n",
    "print(pd.DataFrame(L @ U))"
   ]
  },
  {
   "cell_type": "code",
   "execution_count": 129,
   "metadata": {},
   "outputs": [
    {
     "data": {
      "text/plain": [
       "(array([[-1.00000000e+00],\n",
       "        [-1.94716038e-15],\n",
       "        [ 1.00000000e+00]]),\n",
       " array([[-1],\n",
       "        [ 0],\n",
       "        [ 1]]))"
      ]
     },
     "execution_count": 129,
     "metadata": {},
     "output_type": "execute_result"
    }
   ],
   "source": [
    "y = np.linalg.inv(L) @ b\n",
    "x = np.linalg.inv(U) @ y\n",
    "\n",
    "x, x_"
   ]
  },
  {
   "cell_type": "markdown",
   "metadata": {},
   "source": [
    "### Резюмирование\n",
    "\n",
    "Алгоритм LU-разложения прост и работает без косяков сам по себе\n",
    "\n",
    "Когда дело доходит до двухэтапного решения системы, прога выплёвывает неточность. Особенно она заметна в тесте 2, я там даже решил почекать встроенными солверами, и результат впрочем-то не поменялся. Могу предположить, что выч. ошибка возникает по большей части из-за двукратного использования обратной матрицы, вычисление которой процесс не самый стабильный."
   ]
  },
  {
   "cell_type": "markdown",
   "metadata": {},
   "source": [
    "### Пункт 4 лабы"
   ]
  },
  {
   "cell_type": "code",
   "execution_count": 130,
   "metadata": {},
   "outputs": [
    {
     "data": {
      "text/plain": [
       "(array([[1.27],\n",
       "        [2.13],\n",
       "        [3.14]]),\n",
       " array([[1.27],\n",
       "        [2.13],\n",
       "        [3.14]]),\n",
       " 'Решение',\n",
       " array([[0.12996615],\n",
       "        [0.80016894],\n",
       "        [1.07572903]]))"
      ]
     },
     "execution_count": 130,
     "metadata": {},
     "output_type": "execute_result"
    }
   ],
   "source": [
    "A = np.array([\n",
    "    [13.14, -2.12, 1.17],\n",
    "    [-2.12, 6.3, -2.45],\n",
    "    [1.17, -2.45, 4.6]\n",
    "])\n",
    "\n",
    "b = np.array([\n",
    "    [1.27],\n",
    "    [2.13],\n",
    "    [3.14]\n",
    "])\n",
    "\n",
    "L, U = LU(A)\n",
    "y = np.linalg.inv(L) @ b\n",
    "x = np.linalg.inv(U) @ y\n",
    "\n",
    "A @ x, b, \"Решение\", x"
   ]
  },
  {
   "cell_type": "code",
   "execution_count": 131,
   "metadata": {},
   "outputs": [
    {
     "data": {
      "text/plain": [
       "(array([[1.02],\n",
       "        [1.  ],\n",
       "        [1.34],\n",
       "        [1.27]]),\n",
       " array([[1.02],\n",
       "        [1.  ],\n",
       "        [1.34],\n",
       "        [1.27]]),\n",
       " 'Решение',\n",
       " array([[0.15331773],\n",
       "        [0.35835406],\n",
       "        [0.35066487],\n",
       "        [0.19304791]]))"
      ]
     },
     "execution_count": 131,
     "metadata": {},
     "output_type": "execute_result"
    }
   ],
   "source": [
    "A = np.array([\n",
    "    [4.31, 0.26, 0.61, 0.27],\n",
    "    [0.26, 2.32, 0.18, 0.34],\n",
    "    [0.61, 0.18, 3.20, 0.31],\n",
    "    [0.27, 0.34, 0.31, 5.17]\n",
    "])\n",
    "\n",
    "b = np.array([\n",
    "    [1.02],\n",
    "    [1],\n",
    "    [1.34],\n",
    "    [1.27]\n",
    "])\n",
    "\n",
    "L, U = LU(A)\n",
    "y = np.linalg.inv(L) @ b\n",
    "x = np.linalg.inv(U) @ y\n",
    "\n",
    "A @ x, b, \"Решение\", x"
   ]
  },
  {
   "cell_type": "markdown",
   "metadata": {},
   "source": [
    "### Резюмирование 2\n",
    "\n",
    "Я решил не писать метод квадратного корня для двух симметричных матриц, а проверить как работает LU на них. Как и ожидалось, алгоритм нашел решение, и проверка показала что точно"
   ]
  }
 ],
 "metadata": {
  "kernelspec": {
   "display_name": "Python 3",
   "language": "python",
   "name": "python3"
  },
  "language_info": {
   "codemirror_mode": {
    "name": "ipython",
    "version": 3
   },
   "file_extension": ".py",
   "mimetype": "text/x-python",
   "name": "python",
   "nbconvert_exporter": "python",
   "pygments_lexer": "ipython3",
   "version": "3.11.1"
  }
 },
 "nbformat": 4,
 "nbformat_minor": 2
}
