{
 "cells": [
  {
   "cell_type": "markdown",
   "metadata": {},
   "source": [
    "# Проблема собственных значений матрицы\n",
    "\n",
    "Выполнил студент 3 курса СЦТ Лютарь Владислав"
   ]
  },
  {
   "cell_type": "code",
   "execution_count": 26,
   "metadata": {},
   "outputs": [],
   "source": [
    "import numpy as np\n",
    "\n",
    "def Norm2(v):\n",
    "    return sum([v_[0]*v_[0] for v_ in v])**.5"
   ]
  },
  {
   "cell_type": "markdown",
   "metadata": {},
   "source": [
    "### генератор матрицы\n",
    "\n",
    "генерить буду матрицы вида:\n",
    "$$ \\begin{pmatrix}\n",
    "1 & 1 & 1 & ... & 1 \\\\\n",
    "1 & 2 & 2 & ... & 2 \\\\\n",
    "& & ... \\\\\n",
    "1 & 2 & 3 & ... & n\n",
    "\\end{pmatrix} $$\n",
    "\n",
    "У матриц такого вида есть прикол, что их определители равны 1. Это крайне просто проверяется если использовать базовые свойства определителя."
   ]
  },
  {
   "cell_type": "code",
   "execution_count": 27,
   "metadata": {},
   "outputs": [
    {
     "data": {
      "text/plain": [
       "(array([[1., 1., 1., 1.],\n",
       "        [1., 2., 2., 2.],\n",
       "        [1., 2., 3., 3.],\n",
       "        [1., 2., 3., 4.]]),\n",
       " array([8.29085937, 1.        , 0.42602205, 0.28311858]))"
      ]
     },
     "execution_count": 27,
     "metadata": {},
     "output_type": "execute_result"
    }
   ],
   "source": [
    "n = 4\n",
    "\n",
    "A = np.zeros((n,n))\n",
    "\n",
    "for i in range(n):\n",
    "    for j in range(n):\n",
    "        if i<=j: \n",
    "            A[i, j] = i+1\n",
    "            A[j, i] = i+1\n",
    "\n",
    "A, np.linalg.eig(A).eigenvalues"
   ]
  },
  {
   "cell_type": "markdown",
   "metadata": {},
   "source": [
    "## Метод итераций"
   ]
  },
  {
   "cell_type": "code",
   "execution_count": 28,
   "metadata": {},
   "outputs": [],
   "source": [
    "def IterMethod(A, x0_, eps):\n",
    "    kaunt = 0\n",
    "\n",
    "    x0 = x0_ / x0_.reshape((1,n)).max()\n",
    "\n",
    "    xnext = A @ x0\n",
    "    xprev = np.zeros((n,1))\n",
    "\n",
    "    while Norm2(xnext - xprev) > eps:\n",
    "        xprev = xnext\n",
    "        xnext = A @ (xnext / xnext.reshape((1,n)).max())\n",
    "        kaunt += 1\n",
    "\n",
    "    return xnext.reshape((1,n)).max(), kaunt\n",
    "\n",
    "# A = np.array([\n",
    "#     [2, 0, 0],\n",
    "#     [0, 3, 0],\n",
    "#     [0, 0, 4]\n",
    "# ])\n",
    "\n",
    "# X0 = np.array([1 for i in range(n)]).reshape((n,1))\n",
    "# IterMethod(A, X0, 0.001)"
   ]
  },
  {
   "cell_type": "code",
   "execution_count": 29,
   "metadata": {},
   "outputs": [
    {
     "name": "stdout",
     "output_type": "stream",
     "text": [
      "ε = 0.001\n",
      "2.618033988749895  |  (2.6180555555555554, 5)\n",
      "5.048917339522298  |  (5.048951048951049, 5)\n",
      "8.290859369381591  |  (8.290909090909091, 5)\n",
      "12.34353751967705  |  (12.343607372773377, 5)\n",
      "17.20685726740093  |  (17.206868168248207, 6)\n",
      "22.880782741943573  |  (22.880796783857708, 6)\n",
      "29.36529789437195  |  (29.365315534632153, 6)\n",
      "36.660394667024335  |  (36.660416360517885, 6)\n",
      "\n",
      "ε = 0.0000001\n",
      "2.618033988749895  |  (2.6180339985218035, 9)\n",
      "5.048917339522298  |  (5.0489173484443475, 9)\n",
      "8.290859369381591  |  (8.290859370657467, 10)\n",
      "12.34353751967705  |  (12.343537521240004, 10)\n",
      "17.20685726740093  |  (17.206857269347278, 10)\n",
      "22.880782741943573  |  (22.880782744354367, 10)\n",
      "29.36529789437195  |  (29.365297897322392, 10)\n",
      "36.660394667024335  |  (36.660394670586946, 10)\n"
     ]
    }
   ],
   "source": [
    "print(\"ε = 0.001\")\n",
    "for n in range(2,10):\n",
    "\n",
    "    A = np.zeros((n,n))\n",
    "\n",
    "    for i in range(n):\n",
    "        for j in range(n):\n",
    "            if i<=j: \n",
    "                A[i, j] = i+1\n",
    "                A[j, i] = i+1\n",
    "\n",
    "    X0 = np.array([1 for _ in range(n)]).reshape((n,1))\n",
    "    print(max(np.linalg.eig(A).eigenvalues),\" | \",IterMethod(A, X0, 0.001))\n",
    "\n",
    "\n",
    "print(\"\\nε = 0.0000001\")\n",
    "for n in range(2,10):\n",
    "\n",
    "    A = np.zeros((n,n))\n",
    "\n",
    "    for i in range(n):\n",
    "        for j in range(n):\n",
    "            if i<=j: \n",
    "                A[i, j] = i+1\n",
    "                A[j, i] = i+1\n",
    "\n",
    "    X0 = np.array([1 for _ in range(n)]).reshape((n,1))\n",
    "    print(max(np.linalg.eig(A).eigenvalues),\" | \",IterMethod(A, X0, 0.0000001))"
   ]
  },
  {
   "cell_type": "code",
   "execution_count": 30,
   "metadata": {},
   "outputs": [
    {
     "name": "stdout",
     "output_type": "stream",
     "text": [
      "405690.2039584478  |  (405690.2039584477, 16)\n"
     ]
    }
   ],
   "source": [
    "# бонус\n",
    "\n",
    "n=1000\n",
    "\n",
    "A = np.zeros((n,n))\n",
    "\n",
    "for i in range(n):\n",
    "    for j in range(n):\n",
    "        if i<=j: \n",
    "            A[i, j] = i+1\n",
    "            A[j, i] = i+1\n",
    "\n",
    "X0 = np.array([1 for _ in range(n)]).reshape((n,1))\n",
    "print(max(np.linalg.eig(A).eigenvalues),\" | \",IterMethod(A, X0, 0.0000001))"
   ]
  },
  {
   "cell_type": "markdown",
   "metadata": {},
   "source": [
    "## Метод Якоби"
   ]
  },
  {
   "cell_type": "code",
   "execution_count": 31,
   "metadata": {},
   "outputs": [],
   "source": [
    "# n = 3\n",
    "\n",
    "# A = np.zeros((n,n))\n",
    "\n",
    "# for i in range(n):\n",
    "#     for j in range(n):\n",
    "#         if i<=j: \n",
    "#             A[i, j] = i+1\n",
    "#             A[j, i] = i+1\n",
    "# print(np.linalg.eig(A).eigenvalues)\n",
    "\n",
    "\n",
    "# def IndexOfMaxUpper(A):\n",
    "#     mx = 0\n",
    "#     idx = []\n",
    "#     n = len(A)\n",
    "\n",
    "#     for i in range(n):\n",
    "#         for j in range(n):\n",
    "#             if i<j: \n",
    "#                 if mx < abs(A[i, j]):\n",
    "#                     idx = (i, j)\n",
    "#                     mx = A[i, j]\n",
    "#     return idx\n",
    "\n",
    "\n",
    "# def StopCondition(A, eps):\n",
    "#     Sum = 0\n",
    "#     for i in range(n):\n",
    "#         for j in range(n):\n",
    "#             if i != j:\n",
    "#                 Sum += A[i, j]*A[i, j]\n",
    "#     return Sum > eps\n",
    "\n",
    "# def CondSum(A):\n",
    "#     Sum = 0\n",
    "#     n = len(A)\n",
    "#     for i in range(n):\n",
    "#         for j in range(n):\n",
    "#             if i != j:\n",
    "#                 Sum += A[i, j]*A[i, j]\n",
    "#     return Sum\n",
    "\n",
    "\n",
    "# def JacobiMethod(A_, eps):\n",
    "#     A = A_\n",
    "#     n = len(A)\n",
    "#     bl = np.zeros((1, n))[0]\n",
    "#     bm = np.zeros((1, n))[0]\n",
    "\n",
    "#     kaunt = 0\n",
    "\n",
    "#     while CondSum(A) > eps:\n",
    "#         kaunt += 1\n",
    "\n",
    "#         kortezh = IndexOfMaxUpper(A)\n",
    "#         #print(kortezh)\n",
    "#         l = kortezh[0]; m = kortezh[1]\n",
    "\n",
    "#         if A[l, l] == A[m, m]:\n",
    "#             phi = np.pi/4\n",
    "#         else:\n",
    "#             phi = np.arctan(2*A[l, m] / (A[l, l] - A[m, m])) / 2\n",
    "            \n",
    "#         s = np.sin(phi)\n",
    "#         c = np.cos(phi)\n",
    "\n",
    "#         A_ll = A[l, l]\n",
    "#         A_lm = A[l, m]\n",
    "#         A_mm = A[m, m]\n",
    "\n",
    "#         A[l, l] = c*c * A_ll + 2*c*s * A_lm + s*s * A_mm\n",
    "#         A[m, m] = s*s * A_ll - 2*c*s * A_lm + c*c * A_mm\n",
    "#         A[l, m] = 0\n",
    "#         A[m, l] = 0\n",
    "\n",
    "#         for i in range(n):\n",
    "#             if (i != l) and (i != m):\n",
    "#                 A_li = A[l, i]\n",
    "#                 A_mi = A[m, i]\n",
    "\n",
    "#                 A[l, i] = c * A_li - s * A_mi\n",
    "#                 A[m, i] = s * A_li + c * A_mi\n",
    "\n",
    "#                 A[i, l] = A[l, i]\n",
    "#                 A[i, m] = A[m, i]\n",
    "#         print(A, \"\\n\")\n",
    "\n",
    "#     return A, kaunt\n",
    "\n",
    "#JacobiMethod(A, 0.001)\n"
   ]
  },
  {
   "cell_type": "code",
   "execution_count": 35,
   "metadata": {},
   "outputs": [],
   "source": [
    "# n = 3\n",
    "\n",
    "# A = np.zeros((n,n))\n",
    "\n",
    "# for i in range(n):\n",
    "#     for j in range(n):\n",
    "#         if i<=j: \n",
    "#             A[i, j] = i+1\n",
    "#             A[j, i] = i+1\n",
    "# print(np.linalg.eig(A).eigenvalues)\n",
    "\n",
    "\n",
    "def IndexOfMaxUpper(A):\n",
    "    mx = 0\n",
    "    idx = []\n",
    "    n = len(A)\n",
    "\n",
    "    for i in range(n):\n",
    "        for j in range(n):\n",
    "            if i<j: \n",
    "                if mx < abs(A[i, j]):\n",
    "                    idx = (i, j)\n",
    "                    mx = A[i, j]\n",
    "    return idx\n",
    "\n",
    "\n",
    "# def StopCondition(A, eps):\n",
    "#     Sum = 0\n",
    "#     for i in range(n):\n",
    "#         for j in range(n):\n",
    "#             if i != j:\n",
    "#                 Sum += A[i, j]*A[i, j]\n",
    "#     return Sum > eps\n",
    "\n",
    "# def CondSum(A):\n",
    "#     Sum = 0\n",
    "#     n = len(A)\n",
    "#     for i in range(n):\n",
    "#         for j in range(n):\n",
    "#             if i != j:\n",
    "#                 Sum += A[i, j]*A[i, j]\n",
    "#     return Sum\n",
    "\n",
    "\n",
    "def JacobiMethod(A_, eps):\n",
    "    A = A_\n",
    "    n = len(A)\n",
    "    bl = np.zeros((1, n))[0]\n",
    "    bm = np.zeros((1, n))[0]\n",
    "\n",
    "    kaunt = 0\n",
    "\n",
    "    #while np.sum(A ** 2) - np.sum(np.diag(A ** 2)) > eps:\n",
    "    for __ in range(2000000):\n",
    "        kaunt += 1\n",
    "\n",
    "        kortezh = IndexOfMaxUpper(A)\n",
    "        #print(kortezh)\n",
    "        l = kortezh[0]; m = kortezh[1]\n",
    "\n",
    "        if A[l, l] == A[m, m]:\n",
    "            phi = np.pi/4\n",
    "        else:\n",
    "            phi = np.arctan2(2*A[l, m],(A[l, l] - A[m, m])) / 2\n",
    "            \n",
    "        s = np.sin(phi)\n",
    "        c = np.cos(phi)\n",
    "\n",
    "        A_ll = A[l, l]\n",
    "        A_lm = A[l, m]\n",
    "        A_mm = A[m, m]\n",
    "\n",
    "        A[l, m] = 0\n",
    "        A[m, l] = 0\n",
    "\n",
    "        for i in range(n):\n",
    "            A_li = A[l, i]\n",
    "            A_mi = A[m, i]\n",
    "\n",
    "            if (i != l) and (i != m):\n",
    "                b_li = c * A_li + s * A_mi\n",
    "                b_mi = -s * A_li + c * A_mi\n",
    "\n",
    "                A[l, i] = b_li\n",
    "                A[m, i] = b_mi\n",
    "                A[i, l] = b_li\n",
    "                A[i, m] = b_mi\n",
    "\n",
    "            elif i==l:\n",
    "                b_ll = c*c * A_ll + 2*c*s * A_lm + s*s * A_mm\n",
    "                A[l, l] = b_ll\n",
    "\n",
    "            elif i==m:\n",
    "                b_lm = c*s * (A_mm - A_ll) + (c*c - s*s) * A_lm\n",
    "                b_mm = s*s * A_ll - 2*c*s * A_lm + c*c * A_mm\n",
    "\n",
    "                A[l, m] = b_lm\n",
    "                A[m, l] = b_lm\n",
    "                A[m, m] = b_mm\n",
    "\n",
    "\n",
    "        # A_ll = A[l, l]\n",
    "        # A_lm = A[l, m]\n",
    "        # A_mm = A[m, m]\n",
    "\n",
    "        # A[l, l] = c*c * A_ll + 2*c*s * A_lm + s*s * A_mm\n",
    "        # A[m, m] = s*s * A_ll - 2*c*s * A_lm + c*c * A_mm\n",
    "        # A[l, m] = 0\n",
    "        # A[m, l] = 0\n",
    "\n",
    "        # for i in range(n):\n",
    "        #     if (i != l) and (i != m):\n",
    "        #         A_li = A[l, i]\n",
    "        #         A_mi = A[m, i]\n",
    "\n",
    "        #         A[l, i] = c * A_li - s * A_mi\n",
    "        #         A[m, i] = s * A_li + c * A_mi\n",
    "\n",
    "        #         A[i, l] = A[l, i]\n",
    "        #         A[i, m] = A[m, i]\n",
    "\n",
    "        if np.sum(A ** 2) - np.sum(np.diag(A ** 2)) < eps: break\n",
    "                \n",
    "        #print([A[_,_] for _ in range(n)], \"\\n\")\n",
    "\n",
    "    return [A[_,_] for _ in range(n)], kaunt\n",
    "\n",
    "#JacobiMethod(A, 0.001)\n"
   ]
  },
  {
   "cell_type": "code",
   "execution_count": 36,
   "metadata": {},
   "outputs": [
    {
     "name": "stdout",
     "output_type": "stream",
     "text": [
      "[5.0489173 0.6431041 0.3079785]\n"
     ]
    },
    {
     "data": {
      "text/plain": [
       "([5.048221468528735, 0.6433861490772014, 0.30839238239406497], 2000000)"
      ]
     },
     "execution_count": 36,
     "metadata": {},
     "output_type": "execute_result"
    }
   ],
   "source": [
    "n = 3\n",
    "\n",
    "A = np.zeros((n,n))\n",
    "\n",
    "for i in range(n):\n",
    "    for j in range(n):\n",
    "        if i<=j: \n",
    "            A[i, j] = i+1\n",
    "            A[j, i] = i+1\n",
    "\n",
    "\n",
    "print(np.linalg.eig(A).eigenvalues.round(7))\n",
    "JacobiMethod(A, 0.0001)"
   ]
  },
  {
   "cell_type": "code",
   "execution_count": 34,
   "metadata": {},
   "outputs": [
    {
     "name": "stdout",
     "output_type": "stream",
     "text": [
      "[2.2679492 5.7320508 1.       ]\n"
     ]
    },
    {
     "data": {
      "text/plain": [
       "([5, 2, 1], 2)"
      ]
     },
     "execution_count": 34,
     "metadata": {},
     "output_type": "execute_result"
    }
   ],
   "source": [
    "A = np.array([\n",
    "    [3,1,1],\n",
    "    [1,3,2],\n",
    "    [1,2,3]\n",
    "])\n",
    "\n",
    "\n",
    "print(np.linalg.eig(A).eigenvalues.round(7))\n",
    "JacobiMethod(A, 0.0001)"
   ]
  },
  {
   "cell_type": "markdown",
   "metadata": {},
   "source": [
    "## Ну наверное резюмирование\n",
    "\n",
    "Метод итераций работает безупречно и сходится вполне себе быстро, кодится легко и вщ лапочка\n",
    "\n",
    "Метод вращений по какой-то причине либо тупо не может сойтись, либо сходится к чему-то неправильному. Выше я несколько раз пробовал переписывать алгоритм и результат лучше не стал. \n",
    "\n",
    "Еще я пробовал выводить выводить полученные сз на каждой итерации и заметил, что они давным давно сошлись к [5.048221468528735, 0.6433861490772014, 0.30839238239406497]. Затем я попробовал вывести значение суммы из условия и оказалось что сумма вообще сходится к какому-то ненулевому конечному числу. По этой причине сойтись он и не может. Такие вот дела :|"
   ]
  }
 ],
 "metadata": {
  "kernelspec": {
   "display_name": "Python 3",
   "language": "python",
   "name": "python3"
  },
  "language_info": {
   "codemirror_mode": {
    "name": "ipython",
    "version": 3
   },
   "file_extension": ".py",
   "mimetype": "text/x-python",
   "name": "python",
   "nbconvert_exporter": "python",
   "pygments_lexer": "ipython3",
   "version": "3.11.1"
  }
 },
 "nbformat": 4,
 "nbformat_minor": 2
}
