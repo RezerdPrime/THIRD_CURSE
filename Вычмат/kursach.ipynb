{
 "cells": [
  {
   "cell_type": "code",
   "execution_count": 66,
   "metadata": {},
   "outputs": [
    {
     "data": {
      "text/plain": [
       "(array([[1., 1., 1.],\n",
       "        [1., 2., 2.],\n",
       "        [1., 2., 3.]]),\n",
       " 268.754436503487)"
      ]
     },
     "execution_count": 66,
     "metadata": {},
     "output_type": "execute_result"
    }
   ],
   "source": [
    "import numpy as np\n",
    "\n",
    "n = 3\n",
    "\n",
    "\n",
    "# A = np.array([\n",
    "#     [0, 1, 0, 0],\n",
    "#     [1, 0, 0, 0],\n",
    "#     [0, 0, 1, 0],\n",
    "#     [0, 0, 0, 1]\n",
    "# ])\n",
    "# a = np.array([1, 2, 3, 1])\n",
    "# b = np.array([0, 2, 1, 1])\n",
    "# c = np.array([1, 1, 1, 1])\n",
    "\n",
    "# A = np.array([\n",
    "#     list(a),\n",
    "#     list(b),\n",
    "#     list(c),\n",
    "#     list(a - b - c)\n",
    "# ])\n",
    "\n",
    "# A = np.random.rand(n, n)\n",
    "\n",
    "# norm1 = max(np.linalg.eig(A.T @ A).eigenvalues)\n",
    "# B = np.linalg.inv(A)\n",
    "# norm2 = max(np.linalg.eig(B.T @ B).eigenvalues)\n",
    "# mu = norm1 * norm2\n",
    "\n",
    "A = np.zeros((n,n))\n",
    "\n",
    "for i in range(n):\n",
    "    for j in range(n):\n",
    "        if i<=j: \n",
    "            A[i, j] = (i+1)\n",
    "            A[j, i] = (i+1)\n",
    "\n",
    "norm1 = max(np.linalg.eig(A.T @ A).eigenvalues)\n",
    "B = np.linalg.inv(A)\n",
    "norm2 = max(np.linalg.eig(B.T @ B).eigenvalues)\n",
    "mu = norm1 * norm2\n",
    "\n",
    "eigval = np.linalg.eig(A).eigenvalues\n",
    "\n",
    "A, mu"
   ]
  },
  {
   "cell_type": "code",
   "execution_count": 67,
   "metadata": {},
   "outputs": [
    {
     "data": {
      "text/plain": [
       "(1.0,\n",
       " array([1., 1.]),\n",
       " array([[1.],\n",
       "        [1.]]),\n",
       " array([[2., 2.],\n",
       "        [2., 3.]]))"
      ]
     },
     "execution_count": 67,
     "metadata": {},
     "output_type": "execute_result"
    }
   ],
   "source": [
    "a = A[0, 0]\n",
    "R = A[0, :][1:]\n",
    "S = A[:, 0][1:].reshape((n-1,1))\n",
    "M = A[1:, 1:]\n",
    "a, R, S, M"
   ]
  },
  {
   "cell_type": "code",
   "execution_count": 68,
   "metadata": {},
   "outputs": [
    {
     "data": {
      "text/plain": [
       "(array([[1., 1., 1.],\n",
       "        [1., 2., 2.],\n",
       "        [1., 2., 3.]]),\n",
       " ' ',\n",
       " array([[ 1.,  1.],\n",
       "        [ 4.,  5.],\n",
       "        [18., 23.]]))"
      ]
     },
     "execution_count": 68,
     "metadata": {},
     "output_type": "execute_result"
    }
   ],
   "source": [
    "# Samuelson = np.zeros((n, 2*n))\n",
    "\n",
    "LeftPart = [list(R)]\n",
    "for i in range(1, n):\n",
    "    LeftPart.append(list(LeftPart[i - 1] @ M))\n",
    "\n",
    "LeftPart = np.array(LeftPart)\n",
    "A, \" \", LeftPart"
   ]
  },
  {
   "cell_type": "code",
   "execution_count": 69,
   "metadata": {},
   "outputs": [
    {
     "data": {
      "text/plain": [
       "array([[ 0.,  0.,  1., -1.],\n",
       "       [ 0.,  1., -1., -2.],\n",
       "       [ 1., -1., -2., -9.]])"
      ]
     },
     "execution_count": 69,
     "metadata": {},
     "output_type": "execute_result"
    }
   ],
   "source": [
    "RightPart = np.zeros((n, n+1))\n",
    "\n",
    "buf = [(LeftPart[_] @ S)[0] for _ in range(n)]\n",
    "\n",
    "for j in range(n):\n",
    "    RightPart[j, n-j] = -a\n",
    "    RightPart[j, n-j-1] = 1\n",
    "\n",
    "    for i in range(j):\n",
    "        RightPart[j, n-j+i+1] = -buf[i]\n",
    "\n",
    "RightPart"
   ]
  },
  {
   "cell_type": "code",
   "execution_count": 70,
   "metadata": {},
   "outputs": [
    {
     "data": {
      "text/plain": [
       "[array([ 1.,  1.,  0.,  0.,  1., -1.]),\n",
       " array([ 4.,  5.,  0.,  1., -1., -2.]),\n",
       " array([18., 23.,  1., -1., -2., -9.])]"
      ]
     },
     "execution_count": 70,
     "metadata": {},
     "output_type": "execute_result"
    }
   ],
   "source": [
    "Samuelson = np.hstack((LeftPart, RightPart))\n",
    "list(Samuelson)"
   ]
  },
  {
   "cell_type": "code",
   "execution_count": 71,
   "metadata": {},
   "outputs": [
    {
     "name": "stdout",
     "output_type": "stream",
     "text": [
      "[[ 1.  1.  0.  0.  1. -1.]\n",
      " [ 0.  1.  0.  1. -5.  2.]\n",
      " [18. 23.  1. -1. -2. -9.]] \n",
      "\n",
      "[[  1.   1.   0.   0.   1.  -1.]\n",
      " [  0.   1.   0.   1.  -5.   2.]\n",
      " [  0.   5.   1.  -1. -20.   9.]] \n",
      "\n",
      "[[ 1.  1.  0.  0.  1. -1.]\n",
      " [ 0.  1.  0.  1. -5.  2.]\n",
      " [ 0.  0.  1. -6.  5. -1.]] \n",
      "\n"
     ]
    }
   ],
   "source": [
    "for k in range(n-1):\n",
    "    for l in range(k+1, n):\n",
    "        Samuelson[l] -= Samuelson[k] / Samuelson[k, k] * Samuelson[l, k]\n",
    "        print(Samuelson.round(4), \"\\n\")\n",
    "\n",
    "#Samuelson, Samuelson[n-1][-1-n:]\n",
    "\n",
    "# koeffs = list(Samuelson[n-1][-1-n:])\n",
    "\n",
    "# roots = np.roots(koeffs)\n",
    "# roots\n",
    "\n",
    "# eigval, sorted(roots, reverse=True)"
   ]
  },
  {
   "cell_type": "code",
   "execution_count": 72,
   "metadata": {},
   "outputs": [
    {
     "name": "stdout",
     "output_type": "stream",
     "text": [
      "4230\n",
      "4230\n"
     ]
    }
   ],
   "source": [
    "import numpy as np\n",
    "\n",
    "\n",
    "def SamuelsonMethod(A):\n",
    "    K = 0\n",
    "\n",
    "    n = len(A)\n",
    "\n",
    "    a = A[0, 0]\n",
    "    R = A[0, :][1:]\n",
    "    S = A[:, 0][1:].reshape((n-1,1))\n",
    "    M = A[1:, 1:]\n",
    "\n",
    "\n",
    "    LeftPart = [list(R)]\n",
    "    for i in range(1, n):\n",
    "        LeftPart.append(list(LeftPart[i - 1] @ M)) # (n-1) - умножение, (n-2) - сложение -> (2n - 3)(n-1)^2\n",
    "        K += ((n-1) + (n-2))*(n-1)\n",
    "\n",
    "    LeftPart = np.array(LeftPart)\n",
    "\n",
    "\n",
    "    RightPart = np.zeros((n, n+1))\n",
    "\n",
    "    buf = [(LeftPart[_] @ S)[0] for _ in range(n-1)] # (2n - 3)(n-1)\n",
    "    K += (2*n - 3)*(n-1)\n",
    "\n",
    "    for j in range(n):\n",
    "        RightPart[j, n-j] = -a\n",
    "        RightPart[j, n-j-1] = 1\n",
    "\n",
    "        for i in range(j):\n",
    "            RightPart[j, n-j+i+1] = -buf[i]\n",
    "\n",
    "\n",
    "    Samuelson = np.hstack((LeftPart, RightPart))\n",
    "\n",
    "    for k in range(n-1):\n",
    "        for l in range(k+1, n): # (n-1)n/2\n",
    "            Samuelson[l] -= Samuelson[k] / Samuelson[k, k] * Samuelson[l, k] # 3*2n  ->  3(n - 1)n^2\n",
    "            #print(Samuelson, \"\\n\")\n",
    "\n",
    "            K += 3 * 2*n\n",
    "    print(K)\n",
    "\n",
    "N = 10\n",
    "A = np.zeros((N,N))\n",
    "\n",
    "for i in range(N):\n",
    "    for j in range(N):\n",
    "        if i<=j: \n",
    "            A[i, j] = (i+1)\n",
    "            A[j, i] = (i+1)\n",
    "\n",
    "SamuelsonMethod(A)\n",
    "\n",
    "print((2*N - 3)*(N-1)**2 + (2*N - 3)*(N-1) + 3*(N - 1)*N**2)"
   ]
  },
  {
   "cell_type": "code",
   "execution_count": 73,
   "metadata": {},
   "outputs": [
    {
     "name": "stderr",
     "output_type": "stream",
     "text": [
      "C:\\Users\\Lenovo\\AppData\\Local\\Temp\\ipykernel_14652\\3927103402.py:17: RuntimeWarning: overflow encountered in matmul\n",
      "  LeftPart.append(list(LeftPart[i - 1] @ M))\n",
      "C:\\Users\\Lenovo\\AppData\\Local\\Temp\\ipykernel_14652\\3927103402.py:24: RuntimeWarning: overflow encountered in matmul\n",
      "  buf = [(LeftPart[_] @ S)[0] for _ in range(n-1)]\n",
      "C:\\Users\\Lenovo\\AppData\\Local\\Temp\\ipykernel_14652\\3927103402.py:38: RuntimeWarning: invalid value encountered in multiply\n",
      "  Samuelson[l] -= Samuelson[k] / Samuelson[k, k] * Samuelson[l, k]\n",
      "C:\\Users\\Lenovo\\AppData\\Local\\Temp\\ipykernel_14652\\3927103402.py:38: RuntimeWarning: invalid value encountered in subtract\n",
      "  Samuelson[l] -= Samuelson[k] / Samuelson[k, k] * Samuelson[l, k]\n",
      "C:\\Users\\Lenovo\\AppData\\Local\\Temp\\ipykernel_14652\\3927103402.py:38: RuntimeWarning: overflow encountered in multiply\n",
      "  Samuelson[l] -= Samuelson[k] / Samuelson[k, k] * Samuelson[l, k]\n",
      "C:\\Users\\Lenovo\\AppData\\Local\\Temp\\ipykernel_14652\\3927103402.py:38: RuntimeWarning: invalid value encountered in divide\n",
      "  Samuelson[l] -= Samuelson[k] / Samuelson[k, k] * Samuelson[l, k]\n"
     ]
    },
    {
     "ename": "KeyboardInterrupt",
     "evalue": "",
     "output_type": "error",
     "traceback": [
      "\u001b[1;31m---------------------------------------------------------------------------\u001b[0m",
      "\u001b[1;31mKeyboardInterrupt\u001b[0m                         Traceback (most recent call last)",
      "Cell \u001b[1;32mIn[73], line 55\u001b[0m\n\u001b[0;32m     52\u001b[0m             A[j, i] \u001b[38;5;241m=\u001b[39m (i\u001b[38;5;241m+\u001b[39m\u001b[38;5;241m1\u001b[39m)\n\u001b[0;32m     54\u001b[0m start_time \u001b[38;5;241m=\u001b[39m time\u001b[38;5;241m.\u001b[39mtime()\n\u001b[1;32m---> 55\u001b[0m \u001b[43mSamuelsonMethod\u001b[49m\u001b[43m(\u001b[49m\u001b[43mA\u001b[49m\u001b[43m)\u001b[49m\n\u001b[0;32m     56\u001b[0m end_time \u001b[38;5;241m=\u001b[39m time\u001b[38;5;241m.\u001b[39mtime()\n\u001b[0;32m     58\u001b[0m timearr\u001b[38;5;241m.\u001b[39mappend(end_time \u001b[38;5;241m-\u001b[39m start_time)\n",
      "Cell \u001b[1;32mIn[73], line 38\u001b[0m, in \u001b[0;36mSamuelsonMethod\u001b[1;34m(A)\u001b[0m\n\u001b[0;32m     36\u001b[0m \u001b[38;5;28;01mfor\u001b[39;00m k \u001b[38;5;129;01min\u001b[39;00m \u001b[38;5;28mrange\u001b[39m(n\u001b[38;5;241m-\u001b[39m\u001b[38;5;241m1\u001b[39m):\n\u001b[0;32m     37\u001b[0m     \u001b[38;5;28;01mfor\u001b[39;00m l \u001b[38;5;129;01min\u001b[39;00m \u001b[38;5;28mrange\u001b[39m(k\u001b[38;5;241m+\u001b[39m\u001b[38;5;241m1\u001b[39m, n):\n\u001b[1;32m---> 38\u001b[0m         Samuelson[l] \u001b[38;5;241m-\u001b[39m\u001b[38;5;241m=\u001b[39m Samuelson[k] \u001b[38;5;241m/\u001b[39m Samuelson[k, k] \u001b[38;5;241m*\u001b[39m Samuelson[l, k]\n",
      "\u001b[1;31mKeyboardInterrupt\u001b[0m: "
     ]
    }
   ],
   "source": [
    "import numpy as np\n",
    "import time\n",
    "from matplotlib import pyplot as plt\n",
    "\n",
    "\n",
    "def SamuelsonMethod(A):\n",
    "    n = len(A)\n",
    "\n",
    "    a = A[0, 0]\n",
    "    R = A[0, :][1:]\n",
    "    S = A[:, 0][1:].reshape((n-1,1))\n",
    "    M = A[1:, 1:]\n",
    "\n",
    "\n",
    "    LeftPart = [list(R)]\n",
    "    for i in range(1, n):\n",
    "        LeftPart.append(list(LeftPart[i - 1] @ M))\n",
    "\n",
    "    LeftPart = np.array(LeftPart)\n",
    "\n",
    "\n",
    "    RightPart = np.zeros((n, n+1))\n",
    "\n",
    "    buf = [(LeftPart[_] @ S)[0] for _ in range(n-1)]\n",
    "\n",
    "    for j in range(n):\n",
    "        RightPart[j, n-j] = -a\n",
    "        RightPart[j, n-j-1] = 1\n",
    "\n",
    "        for i in range(j):\n",
    "            RightPart[j, n-j+i+1] = -buf[i]\n",
    "\n",
    "\n",
    "    Samuelson = np.hstack((LeftPart, RightPart))\n",
    "\n",
    "    for k in range(n-1):\n",
    "        for l in range(k+1, n):\n",
    "            Samuelson[l] -= Samuelson[k] / Samuelson[k, k] * Samuelson[l, k]\n",
    "\n",
    "\n",
    "\n",
    "timearr = []\n",
    "Narr = list(range(100, 5000, 100))\n",
    "for N in Narr:\n",
    "\n",
    "    A = np.zeros((N,N))\n",
    "\n",
    "    for i in range(N):\n",
    "        for j in range(N):\n",
    "            if i<=j: \n",
    "                A[i, j] = (i+1)\n",
    "                A[j, i] = (i+1)\n",
    "\n",
    "    start_time = time.time()\n",
    "    SamuelsonMethod(A)\n",
    "    end_time = time.time()\n",
    "\n",
    "    timearr.append(end_time - start_time)\n",
    "\n",
    "plt.plot(Narr, timearr)\n",
    "timearr"
   ]
  },
  {
   "cell_type": "code",
   "execution_count": 80,
   "metadata": {},
   "outputs": [
    {
     "data": {
      "text/plain": [
       "[<matplotlib.lines.Line2D at 0x1a5305ac550>]"
      ]
     },
     "execution_count": 80,
     "metadata": {},
     "output_type": "execute_result"
    },
    {
     "data": {
      "image/png": "[encoded data removed]",
      "text/plain": [
       "<Figure size 640x480 with 1 Axes>"
      ]
     },
     "metadata": {},
     "output_type": "display_data"
    }
   ],
   "source": [
    "plt.plot(Narr[:-8], timearr)"
   ]
  },
  {
   "cell_type": "code",
   "execution_count": 81,
   "metadata": {},
   "outputs": [
    {
     "data": {
      "text/plain": [
       "[0.0372006893157959,\n",
       " 0.09583449363708496,\n",
       " 0.2157304286956787,\n",
       " 0.3745734691619873,\n",
       " 0.5988996028900146,\n",
       " 0.8942573070526123,\n",
       " 1.260406255722046,\n",
       " 1.733635425567627,\n",
       " 2.3114144802093506,\n",
       " 3.2342941761016846,\n",
       " 4.084203481674194,\n",
       " 5.068538427352905,\n",
       " 6.243319034576416,\n",
       " 7.68452262878418,\n",
       " 9.163716793060303,\n",
       " 10.703766822814941,\n",
       " 12.823225975036621,\n",
       " 14.972129583358765,\n",
       " 17.784646034240723,\n",
       " 19.96726131439209,\n",
       " 25.23374891281128,\n",
       " 29.3627769947052,\n",
       " 32.03582429885864,\n",
       " 36.781312227249146,\n",
       " 40.46602702140808,\n",
       " 46.03926634788513,\n",
       " 54.991140365600586,\n",
       " 60.267618894577026,\n",
       " 65.43579173088074,\n",
       " 72.30891180038452,\n",
       " 79.88008260726929,\n",
       " 83.88248991966248,\n",
       " 90.18634295463562,\n",
       " 102.16199779510498,\n",
       " 108.25139617919922,\n",
       " 112.5507345199585,\n",
       " 116.31181788444519,\n",
       " 133.3509123325348,\n",
       " 143.23196387290955,\n",
       " 151.36217308044434,\n",
       " 163.73154711723328]"
      ]
     },
     "execution_count": 81,
     "metadata": {},
     "output_type": "execute_result"
    }
   ],
   "source": [
    "[0.0372006893157959,\n",
    " 0.09583449363708496,\n",
    " 0.2157304286956787,\n",
    " 0.3745734691619873,\n",
    " 0.5988996028900146,\n",
    " 0.8942573070526123,\n",
    " 1.260406255722046,\n",
    " 1.733635425567627,\n",
    " 2.3114144802093506,\n",
    " 3.2342941761016846,\n",
    " 4.084203481674194,\n",
    " 5.068538427352905,\n",
    " 6.243319034576416,\n",
    " 7.68452262878418,\n",
    " 9.163716793060303,\n",
    " 10.703766822814941,\n",
    " 12.823225975036621,\n",
    " 14.972129583358765,\n",
    " 17.784646034240723,\n",
    " 19.96726131439209,\n",
    " 25.23374891281128,\n",
    " 29.3627769947052,\n",
    " 32.03582429885864,\n",
    " 36.781312227249146,\n",
    " 40.46602702140808,\n",
    " 46.03926634788513,\n",
    " 54.991140365600586,\n",
    " 60.267618894577026,\n",
    " 65.43579173088074,\n",
    " 72.30891180038452,\n",
    " 79.88008260726929,\n",
    " 83.88248991966248,\n",
    " 90.18634295463562,\n",
    " 102.16199779510498,\n",
    " 108.25139617919922,\n",
    " 112.5507345199585,\n",
    " 116.31181788444519,\n",
    " 133.3509123325348,\n",
    " 143.23196387290955,\n",
    " 151.36217308044434,\n",
    " 163.73154711723328]"
   ]
  }
 ],
 "metadata": {
  "kernelspec": {
   "display_name": "Python 3",
   "language": "python",
   "name": "python3"
  },
  "language_info": {
   "codemirror_mode": {
    "name": "ipython",
    "version": 3
   },
   "file_extension": ".py",
   "mimetype": "text/x-python",
   "name": "python",
   "nbconvert_exporter": "python",
   "pygments_lexer": "ipython3",
   "version": "3.11.1"
  }
 },
 "nbformat": 4,
 "nbformat_minor": 2
}
